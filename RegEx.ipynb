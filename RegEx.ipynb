{
  "cells": [
    {
      "cell_type": "markdown",
      "id": "3375bda7",
      "metadata": {
        "id": "3375bda7"
      },
      "source": [
        "# RegEx"
      ]
    },
    {
      "cell_type": "markdown",
      "id": "d04f1360",
      "metadata": {
        "id": "d04f1360"
      },
      "source": [
        "RegEx can be used to check if a string contains the specified search pattern"
      ]
    },
    {
      "cell_type": "markdown",
      "id": "eb119574",
      "metadata": {
        "id": "eb119574"
      },
      "source": [
        "### Example\n",
        "Search the string to see if it starts with \"The\" and ends with \"Spain\":"
      ]
    },
    {
      "cell_type": "markdown",
      "id": "036089f5",
      "metadata": {
        "id": "036089f5"
      },
      "source": [
        "import re\n",
        "\n",
        "txt = \"The rain in Spain\"\n",
        "x = re.search(\"^The.*Spain$\", txt)"
      ]
    },
    {
      "cell_type": "code",
      "execution_count": null,
      "id": "e0f9b862",
      "metadata": {
        "id": "e0f9b862",
        "outputId": "992134ff-2d24-498c-d5d7-893c4980f4e0"
      },
      "outputs": [
        {
          "name": "stdout",
          "output_type": "stream",
          "text": [
            "<re.Match object; span=(0, 17), match='The rain in Spain'>\n"
          ]
        }
      ],
      "source": [
        "print(x)"
      ]
    },
    {
      "cell_type": "code",
      "execution_count": null,
      "id": "a0f9b7ad",
      "metadata": {
        "id": "a0f9b7ad",
        "outputId": "d7cb86fa-291e-45ac-fa58-97684a8c43eb"
      },
      "outputs": [
        {
          "name": "stdout",
          "output_type": "stream",
          "text": [
            "Yes it is available in String\n"
          ]
        }
      ],
      "source": [
        "if x:\n",
        "    print(\"Yes it is available in String\")\n",
        "else:\n",
        "    print(\"Not Present\")"
      ]
    },
    {
      "cell_type": "markdown",
      "id": "ac242ba3",
      "metadata": {
        "id": "ac242ba3"
      },
      "source": [
        "## Find all the digits "
      ]
    },
    {
      "cell_type": "code",
      "execution_count": null,
      "id": "59983e09",
      "metadata": {
        "id": "59983e09",
        "outputId": "225863a0-5117-4b42-c021-53378cb66301"
      },
      "outputs": [
        {
          "name": "stdout",
          "output_type": "stream",
          "text": [
            "['5', '9']\n"
          ]
        }
      ],
      "source": [
        "txt = \"That will be 59 dollars\"\n",
        "\n",
        "#Find all digit characters:\n",
        "\n",
        "x = re.findall(\"\\d\", txt)\n",
        "print(x)\n"
      ]
    },
    {
      "cell_type": "markdown",
      "id": "b4c7127a",
      "metadata": {
        "id": "b4c7127a"
      },
      "source": [
        "### Search for a sequence that starts with \"he\", followed by two (any) characters, and an \"o\":"
      ]
    },
    {
      "cell_type": "code",
      "execution_count": null,
      "id": "37303d1c",
      "metadata": {
        "id": "37303d1c",
        "outputId": "21592316-351d-4160-babc-8e4fe431b2d6"
      },
      "outputs": [
        {
          "name": "stdout",
          "output_type": "stream",
          "text": [
            "['hello']\n"
          ]
        }
      ],
      "source": [
        "txt = \"hello planet\"\n",
        "x = re.findall(\"he..o\", txt)\n",
        "print(x)\n"
      ]
    },
    {
      "cell_type": "markdown",
      "id": "5d79edb4",
      "metadata": {
        "id": "5d79edb4"
      },
      "source": [
        "# Starts With "
      ]
    },
    {
      "cell_type": "code",
      "execution_count": null,
      "id": "f23470c3",
      "metadata": {
        "id": "f23470c3",
        "outputId": "629a30a8-e688-4e3e-be81-6a5f8a71d613"
      },
      "outputs": [
        {
          "name": "stdout",
          "output_type": "stream",
          "text": [
            "Yes, the string starts with 'hello'\n"
          ]
        }
      ],
      "source": [
        "txt = \"hello planet\"\n",
        "x = re.findall(\"^hello\", txt)\n",
        "if x:\n",
        "  print(\"Yes, the string starts with 'hello'\")\n",
        "else:\n",
        "  print(\"No match\")"
      ]
    },
    {
      "cell_type": "markdown",
      "id": "cac0c5c1",
      "metadata": {
        "id": "cac0c5c1"
      },
      "source": [
        "## Ends With "
      ]
    },
    {
      "cell_type": "code",
      "execution_count": null,
      "id": "00bb8ad6",
      "metadata": {
        "id": "00bb8ad6",
        "outputId": "89600206-b6bb-4cd2-8cea-a472bfe509ff"
      },
      "outputs": [
        {
          "name": "stdout",
          "output_type": "stream",
          "text": [
            "Yes, the string ends with 'planet'\n"
          ]
        }
      ],
      "source": [
        "txt = \"hello planet\"\n",
        "x = re.findall(\"planet$\", txt)\n",
        "if x:\n",
        "  print(\"Yes, the string ends with 'planet'\")\n",
        "else:\n",
        "  print(\"No match\")\n"
      ]
    },
    {
      "cell_type": "markdown",
      "id": "d17629a2",
      "metadata": {
        "id": "d17629a2"
      },
      "source": [
        "## Zero or more occurrences"
      ]
    },
    {
      "cell_type": "markdown",
      "id": "f9181195",
      "metadata": {
        "id": "f9181195"
      },
      "source": [
        "Search for a sequence that starts with \"he\", followed by 0 or more  (any) characters, and an \"o\""
      ]
    },
    {
      "cell_type": "code",
      "execution_count": null,
      "id": "7b790c67",
      "metadata": {
        "id": "7b790c67",
        "outputId": "cc3908a7-124d-4049-dd20-808d55d15601"
      },
      "outputs": [
        {
          "name": "stdout",
          "output_type": "stream",
          "text": [
            "['hello']\n"
          ]
        }
      ],
      "source": [
        "txt = \"hello planet\"\n",
        "x = re.findall(\"he.*o\", txt)\n",
        "print(x)\n"
      ]
    },
    {
      "cell_type": "markdown",
      "id": "3c77b441",
      "metadata": {
        "id": "3c77b441"
      },
      "source": [
        "## One or more occurrences"
      ]
    },
    {
      "cell_type": "markdown",
      "id": "88176f02",
      "metadata": {
        "id": "88176f02"
      },
      "source": [
        "Search for a sequence that starts with \"he\", followed by 1 or more  (any) characters, and an \"o\":"
      ]
    },
    {
      "cell_type": "code",
      "execution_count": null,
      "id": "cfa6f97a",
      "metadata": {
        "id": "cfa6f97a",
        "outputId": "389466d2-aeac-485b-8e9b-533b1e45cb18"
      },
      "outputs": [
        {
          "name": "stdout",
          "output_type": "stream",
          "text": [
            "['hello']\n"
          ]
        }
      ],
      "source": [
        "txt = \"hello planet\"\n",
        "x = re.findall(\"he.+o\",txt)\n",
        "print(x)"
      ]
    },
    {
      "cell_type": "markdown",
      "id": "cde075a1",
      "metadata": {
        "id": "cde075a1"
      },
      "source": [
        "## Zero or one occurrences"
      ]
    },
    {
      "cell_type": "markdown",
      "id": "503c172a",
      "metadata": {
        "id": "503c172a"
      },
      "source": [
        "Search for a sequence that starts with \"he\", followed by 0 or 1  (any) character, and an \"o\":"
      ]
    },
    {
      "cell_type": "code",
      "execution_count": null,
      "id": "cfbdea59",
      "metadata": {
        "id": "cfbdea59",
        "outputId": "9b62d53a-3c14-401b-b671-851953e2d736"
      },
      "outputs": [
        {
          "name": "stdout",
          "output_type": "stream",
          "text": [
            "[]\n"
          ]
        }
      ],
      "source": [
        "txt = \"hello planet\"\n",
        "x = re.findall(\"he.?o\", txt)\n",
        "print(x)\n"
      ]
    },
    {
      "cell_type": "markdown",
      "id": "0f57b183",
      "metadata": {
        "id": "0f57b183"
      },
      "source": [
        "## Exactly the specified number of occurrences"
      ]
    },
    {
      "cell_type": "markdown",
      "id": "40283bfa",
      "metadata": {
        "id": "40283bfa"
      },
      "source": [
        "Search for a sequence that starts with \"he\", followed excactly 2 (any) characters, and an \"o\":"
      ]
    },
    {
      "cell_type": "code",
      "execution_count": null,
      "id": "d6a4936a",
      "metadata": {
        "id": "d6a4936a",
        "outputId": "fa09bdc6-b0d2-4749-e36b-ce7f988eec0e"
      },
      "outputs": [
        {
          "name": "stdout",
          "output_type": "stream",
          "text": [
            "['hello']\n"
          ]
        }
      ],
      "source": [
        "txt = \"hello planet\"\n",
        "x = re.findall(\"he.{2}o\", txt)\n",
        "print(x)"
      ]
    },
    {
      "cell_type": "markdown",
      "id": "81eaa911",
      "metadata": {
        "id": "81eaa911"
      },
      "source": [
        "## Either or"
      ]
    },
    {
      "cell_type": "markdown",
      "id": "715c6811",
      "metadata": {
        "id": "715c6811"
      },
      "source": [
        "Check if the string contains either \"falls\" or \"stays\":"
      ]
    },
    {
      "cell_type": "code",
      "execution_count": null,
      "id": "f5604c37",
      "metadata": {
        "id": "f5604c37",
        "outputId": "1871b76c-8deb-4781-9e39-a0b1097aa8c9"
      },
      "outputs": [
        {
          "name": "stdout",
          "output_type": "stream",
          "text": [
            "['falls']\n",
            "Yes, there is at least one match!\n"
          ]
        }
      ],
      "source": [
        "txt = \"The rain in Spain falls mainly in the plain!\"\n",
        "x = re.findall(\"falls|stays\", txt)\n",
        "\n",
        "print(x)\n",
        "\n",
        "if x:\n",
        "  print(\"Yes, there is at least one match!\")\n",
        "else:\n",
        "  print(\"No match\")\n"
      ]
    },
    {
      "cell_type": "markdown",
      "id": "d92cd910",
      "metadata": {
        "id": "d92cd910"
      },
      "source": [
        "## Characters at the Begining"
      ]
    },
    {
      "cell_type": "markdown",
      "id": "68a6d6bf",
      "metadata": {
        "id": "68a6d6bf"
      },
      "source": [
        "Check if the string starts with \"The\":"
      ]
    },
    {
      "cell_type": "code",
      "execution_count": null,
      "id": "ff85454a",
      "metadata": {
        "id": "ff85454a",
        "outputId": "a2281d5a-7b03-47d8-9fae-8f294669cd7f"
      },
      "outputs": [
        {
          "name": "stdout",
          "output_type": "stream",
          "text": [
            "['The']\n",
            "Yes, there is a match!\n"
          ]
        }
      ],
      "source": [
        "txt = \"The rain in Spain\"\n",
        "x = re.findall(\"\\AThe\",txt)\n",
        "print(x)\n",
        "if x:\n",
        "    print(\"Yes, there is a match!\")\n",
        "else:\n",
        "    print(\"No Match\")"
      ]
    },
    {
      "cell_type": "markdown",
      "id": "05edb2e2",
      "metadata": {
        "id": "05edb2e2"
      },
      "source": [
        "## Word at the Begining"
      ]
    },
    {
      "cell_type": "markdown",
      "id": "7370df43",
      "metadata": {
        "id": "7370df43"
      },
      "source": [
        "Check if \"ain\" is present at the beginning of a WORD:"
      ]
    },
    {
      "cell_type": "code",
      "execution_count": null,
      "id": "c5373212",
      "metadata": {
        "id": "c5373212",
        "outputId": "9d99e81a-ff7e-4362-d00b-add81ca0ba93"
      },
      "outputs": [
        {
          "name": "stdout",
          "output_type": "stream",
          "text": [
            "['rain']\n",
            "Yes, there is at least one match! ['rain']\n"
          ]
        }
      ],
      "source": [
        "import re\n",
        "\n",
        "txt = \"The rain in Spain\"\n",
        "\n",
        "#Check if \"ain\" is present at the beginning of a WORD:\n",
        "\n",
        "x = re.findall(r\"\\brain\", txt)\n",
        "\n",
        "print(x)\n",
        "\n",
        "if x:\n",
        "  print(\"Yes, there is at least one match!\",x)\n",
        "else:\n",
        "  print(\"No match\")\n"
      ]
    },
    {
      "cell_type": "markdown",
      "id": "11a54701",
      "metadata": {
        "id": "11a54701"
      },
      "source": [
        "## Word at the End"
      ]
    },
    {
      "cell_type": "markdown",
      "id": "72b1cd5a",
      "metadata": {
        "id": "72b1cd5a"
      },
      "source": [
        "Check if \"ain\" is present at the end of a WORD:"
      ]
    },
    {
      "cell_type": "code",
      "execution_count": null,
      "id": "f96e25c1",
      "metadata": {
        "id": "f96e25c1",
        "outputId": "1ee8f701-65e3-4c37-974d-0f9b353cd739"
      },
      "outputs": [
        {
          "name": "stdout",
          "output_type": "stream",
          "text": [
            "['ain', 'ain']\n",
            "Yes ['ain', 'ain']is present in this string\n"
          ]
        }
      ],
      "source": [
        "txt = \"The rain in Spain\"\n",
        "x = re.findall(r\"ain\\b\",txt)\n",
        "print(x)\n",
        "if x:\n",
        "    print(\"Yes {}is present in this string\".format(x))"
      ]
    },
    {
      "cell_type": "markdown",
      "id": "54a44068",
      "metadata": {
        "id": "54a44068"
      },
      "source": [
        "## NOT at the beginning of a word"
      ]
    },
    {
      "cell_type": "markdown",
      "id": "16c684b4",
      "metadata": {
        "id": "16c684b4"
      },
      "source": [
        "Check if \"ain\" is present, but NOT at the beginning of a word:"
      ]
    },
    {
      "cell_type": "code",
      "execution_count": null,
      "id": "2b705101",
      "metadata": {
        "id": "2b705101",
        "outputId": "f43fa405-bdea-427c-f636-36077845ee6b"
      },
      "outputs": [
        {
          "name": "stdout",
          "output_type": "stream",
          "text": [
            "['rain']\n",
            "Yes there is at least one match\n"
          ]
        }
      ],
      "source": [
        "txt = \"The rain in Spain\"\n",
        "\n",
        "\n",
        "x = re.findall(\"r\\Bain\",txt)\n",
        "print(x)\n",
        "if x:\n",
        "    print(\"Yes there is at least one match\")\n",
        "else:\n",
        "    print(\"NO Match\")\n",
        "\n"
      ]
    },
    {
      "cell_type": "markdown",
      "id": "e2d64777",
      "metadata": {
        "id": "e2d64777"
      },
      "source": [
        "## NOT at the end of a word"
      ]
    },
    {
      "cell_type": "markdown",
      "id": "bcbeb64f",
      "metadata": {
        "id": "bcbeb64f"
      },
      "source": [
        "Check if \"ain\" is present, but NOT at the end of a word:"
      ]
    },
    {
      "cell_type": "code",
      "execution_count": null,
      "id": "1a08afcf",
      "metadata": {
        "id": "1a08afcf",
        "outputId": "ce517f5c-d883-4b4c-a87b-491089674ac4"
      },
      "outputs": [
        {
          "name": "stdout",
          "output_type": "stream",
          "text": [
            "[]\n",
            "No Match\n"
          ]
        }
      ],
      "source": [
        "txt = \"The rain in Spain\"\n",
        "\n",
        "x = re.findall(r\"ain\\B\",txt)\n",
        "print(x)\n",
        "if x:\n",
        "    print(\"Yes there is at least one match\")\n",
        "else:\n",
        "    print(\"No Match\")"
      ]
    },
    {
      "cell_type": "markdown",
      "id": "df866028",
      "metadata": {
        "id": "df866028"
      },
      "source": [
        "## Contains any digits (numbers from 0-9)"
      ]
    },
    {
      "cell_type": "markdown",
      "id": "04e2253e",
      "metadata": {
        "id": "04e2253e"
      },
      "source": [
        "Check if the string contains any digits (numbers from 0-9):"
      ]
    },
    {
      "cell_type": "code",
      "execution_count": null,
      "id": "12f03dca",
      "metadata": {
        "id": "12f03dca",
        "outputId": "0e723855-b618-439c-d864-776e27956577"
      },
      "outputs": [
        {
          "name": "stdout",
          "output_type": "stream",
          "text": [
            "['1', '0']\n",
            "Yes, there is at least one match!\n"
          ]
        }
      ],
      "source": [
        "txt = \"The1 rain in Spain0\"\n",
        "x = re.findall(\"\\d\", txt)\n",
        "\n",
        "print(x)\n",
        "\n",
        "if x:\n",
        "  print(\"Yes, there is at least one match!\")\n",
        "else:\n",
        "  print(\"No match\")\n"
      ]
    },
    {
      "cell_type": "markdown",
      "id": "3e9894ac",
      "metadata": {
        "id": "3e9894ac"
      },
      "source": [
        "## Does Not Contains Digits"
      ]
    },
    {
      "cell_type": "code",
      "execution_count": null,
      "id": "21994f1d",
      "metadata": {
        "id": "21994f1d",
        "outputId": "03505ef3-8e52-48cb-93ba-af5f8250d5e5"
      },
      "outputs": [
        {
          "name": "stdout",
          "output_type": "stream",
          "text": [
            "['T', 'h', 'e', ' ', 'r', 'a', 'i', 'n', ' ', 'i', 'n', ' ', 'S', 'p', 'a', 'i', 'n']\n",
            "Yes, there is at least one match!\n"
          ]
        }
      ],
      "source": [
        "txt = \"The rain in Spain1111\"\n",
        "x = re.findall(\"\\D\", txt)\n",
        "print(x)\n",
        "if x:\n",
        "  print(\"Yes, there is at least one match!\")\n",
        "else:\n",
        "  print(\"No match\")"
      ]
    },
    {
      "cell_type": "markdown",
      "id": "b4a104b1",
      "metadata": {
        "id": "b4a104b1"
      },
      "source": [
        "## Ends With "
      ]
    },
    {
      "cell_type": "code",
      "execution_count": null,
      "id": "14bf8faa",
      "metadata": {
        "id": "14bf8faa",
        "outputId": "1222d925-92b1-4809-aec2-9c63e50c152e"
      },
      "outputs": [
        {
          "name": "stdout",
          "output_type": "stream",
          "text": [
            "True\n"
          ]
        }
      ],
      "source": [
        "message = 'Python is fun'\n",
        "\n",
        "# check if the message ends with fun\n",
        "print(message.endswith('fun'))"
      ]
    },
    {
      "cell_type": "code",
      "execution_count": null,
      "id": "b9a701cf",
      "metadata": {
        "id": "b9a701cf",
        "outputId": "ad594f02-18f8-4018-80d6-8df08612d270"
      },
      "outputs": [
        {
          "name": "stdout",
          "output_type": "stream",
          "text": [
            "droid is awesome\n"
          ]
        }
      ],
      "source": [
        "string = 'android is awesome'\n",
        "print(string.strip('an'))"
      ]
    },
    {
      "cell_type": "markdown",
      "id": "81ba035d",
      "metadata": {
        "id": "81ba035d"
      },
      "source": [
        "## Contains Characters"
      ]
    },
    {
      "cell_type": "code",
      "execution_count": null,
      "id": "fdbefa27",
      "metadata": {
        "id": "fdbefa27",
        "outputId": "ffe6dc4f-05ee-482e-eb28-977c0cbbe809"
      },
      "outputs": [
        {
          "name": "stdout",
          "output_type": "stream",
          "text": [
            "[]\n",
            "Not Present\n"
          ]
        }
      ],
      "source": [
        "import re\n",
        "\n",
        "txt = \"The rain in Spain\"\n",
        "\n",
        "#Check if the string has any a, r, or n characters:\n",
        "\n",
        "x = re.findall(\"[0-9]\", txt)\n",
        "print(x)\n",
        "if not x:\n",
        "    print(\"Not Present\")"
      ]
    },
    {
      "cell_type": "markdown",
      "id": "451eaa7e",
      "metadata": {
        "id": "451eaa7e"
      },
      "source": [
        "## Contains Specified"
      ]
    },
    {
      "cell_type": "code",
      "execution_count": null,
      "id": "a7f451dc",
      "metadata": {
        "id": "a7f451dc",
        "outputId": "6e3bc75b-58ab-4359-a819-dc21ce682b65"
      },
      "outputs": [
        {
          "name": "stdout",
          "output_type": "stream",
          "text": [
            "['r', 'a', 'n', 'n', 'a', 'n']\n"
          ]
        }
      ],
      "source": [
        "import re\n",
        "\n",
        "txt = \"The rain in Spain\"\n",
        "x = re.findall(\"[arn]\",txt)\n",
        "print(x)"
      ]
    },
    {
      "cell_type": "markdown",
      "id": "ff383979",
      "metadata": {
        "id": "ff383979"
      },
      "source": [
        "## Alphabetically between a and n"
      ]
    },
    {
      "cell_type": "code",
      "execution_count": null,
      "id": "4cf70782",
      "metadata": {
        "id": "4cf70782",
        "outputId": "2769cb06-f46f-47d8-9e60-d4110e9c2195"
      },
      "outputs": [
        {
          "name": "stdout",
          "output_type": "stream",
          "text": [
            "['h', 'e', 'a', 'i', 'n', 'i', 'n', 'a', 'i', 'n']\n"
          ]
        }
      ],
      "source": [
        "import re\n",
        "\n",
        "txt = \"The rain in Spain\"\n",
        "x = re.findall(\"[a-n]\",txt)\n",
        "print(x)"
      ]
    },
    {
      "cell_type": "markdown",
      "id": "3b36f626",
      "metadata": {
        "id": "3b36f626"
      },
      "source": [
        "## EXCEPT a, r, and n"
      ]
    },
    {
      "cell_type": "code",
      "execution_count": null,
      "id": "04a75ec4",
      "metadata": {
        "id": "04a75ec4",
        "outputId": "7a5057ae-c3d1-47f1-a074-92ed814c4c8a"
      },
      "outputs": [
        {
          "name": "stdout",
          "output_type": "stream",
          "text": [
            "['T', ' ', 'r', ' ', ' ', 'S', 'p']\n"
          ]
        }
      ],
      "source": [
        "import re\n",
        "\n",
        "txt = \"The rain in Spain\"\n",
        "\n",
        "x = re.findall('[^a-n]',txt)\n",
        "print(x)"
      ]
    },
    {
      "cell_type": "markdown",
      "id": "d9339e18",
      "metadata": {
        "id": "d9339e18"
      },
      "source": [
        "## String has any two-digit numbers"
      ]
    },
    {
      "cell_type": "code",
      "execution_count": null,
      "id": "87e9e116",
      "metadata": {
        "id": "87e9e116",
        "outputId": "f15f0a4a-5bda-4722-cc92-653b56c6af80"
      },
      "outputs": [
        {
          "name": "stdout",
          "output_type": "stream",
          "text": [
            "['11', '45']\n"
          ]
        }
      ],
      "source": [
        "import re\n",
        "\n",
        "txt = \"8 times before 11:45 AM\"\n",
        "x = re.findall(\"[0-5][0-9]\",txt)\n",
        "print(x)"
      ]
    },
    {
      "cell_type": "markdown",
      "id": "0886e6b6",
      "metadata": {
        "id": "0886e6b6"
      },
      "source": [
        "## Special Characters"
      ]
    },
    {
      "cell_type": "code",
      "execution_count": null,
      "id": "5356d499",
      "metadata": {
        "id": "5356d499",
        "outputId": "214814ff-56ad-4c4b-cb05-0badb97040da"
      },
      "outputs": [
        {
          "name": "stdout",
          "output_type": "stream",
          "text": [
            "[]\n"
          ]
        }
      ],
      "source": [
        "import re\n",
        "\n",
        "txt = \"8 times before 11:45 AM\"\n",
        "\n",
        "#Check if the string has any + characters:\n",
        "\n",
        "x = re.findall(\"[+]\", txt)\n",
        "\n",
        "print(x)\n"
      ]
    },
    {
      "cell_type": "markdown",
      "id": "e0651c01",
      "metadata": {
        "id": "e0651c01"
      },
      "source": [
        "## Findall Function"
      ]
    },
    {
      "cell_type": "code",
      "execution_count": null,
      "id": "650e6bd7",
      "metadata": {
        "id": "650e6bd7",
        "outputId": "2d798288-0a6a-4120-e6be-3534f0f4e5e0"
      },
      "outputs": [
        {
          "name": "stdout",
          "output_type": "stream",
          "text": [
            "[]\n"
          ]
        }
      ],
      "source": [
        "import re\n",
        "\n",
        "txt = \"The rain in Spain\"\n",
        "x = re.findall(\"Portugal\", txt)\n",
        "print(x)"
      ]
    },
    {
      "cell_type": "markdown",
      "id": "24d9e8cb",
      "metadata": {
        "id": "24d9e8cb"
      },
      "source": [
        "## Split "
      ]
    },
    {
      "cell_type": "code",
      "execution_count": null,
      "id": "0a88b729",
      "metadata": {
        "id": "0a88b729",
        "outputId": "9dc80c7e-eab9-4a00-a3c0-dc3bd344c13b"
      },
      "outputs": [
        {
          "name": "stdout",
          "output_type": "stream",
          "text": [
            "['The', 'rain', 'in', 'Spain']\n"
          ]
        }
      ],
      "source": [
        "import re\n",
        "\n",
        "txt = \"The rain in Spain\"\n",
        "x = re.split(\"\\s\", txt)\n",
        "print(x)"
      ]
    },
    {
      "cell_type": "markdown",
      "id": "1c1a53ea",
      "metadata": {
        "id": "1c1a53ea"
      },
      "source": [
        "Split the string only at the first occurrence:"
      ]
    },
    {
      "cell_type": "code",
      "execution_count": null,
      "id": "71e179a2",
      "metadata": {
        "id": "71e179a2",
        "outputId": "31a6054a-f5d6-462e-e2d6-291a61090aae"
      },
      "outputs": [
        {
          "name": "stdout",
          "output_type": "stream",
          "text": [
            "['The', 'rain in Spain']\n"
          ]
        }
      ],
      "source": [
        "import re\n",
        "\n",
        "txt = \"The rain in Spain\"\n",
        "x = re.split(\"\\s\", txt, 1)\n",
        "print(x)"
      ]
    },
    {
      "cell_type": "markdown",
      "id": "5931de12",
      "metadata": {
        "id": "5931de12"
      },
      "source": [
        "## sub() Function\n",
        "The sub() function replaces the matches with the text of your choice"
      ]
    },
    {
      "cell_type": "code",
      "execution_count": null,
      "id": "8c4f027c",
      "metadata": {
        "id": "8c4f027c",
        "outputId": "d759b063-da26-43f8-fb0d-382d09a238fc"
      },
      "outputs": [
        {
          "name": "stdout",
          "output_type": "stream",
          "text": [
            "The9rain9in9Spain\n"
          ]
        }
      ],
      "source": [
        "import re\n",
        "\n",
        "txt = \"The rain in Spain\"\n",
        "x = re.sub(\"\\s\", \"9\", txt)\n",
        "print(x)"
      ]
    },
    {
      "cell_type": "markdown",
      "id": "e1bbf13e",
      "metadata": {
        "id": "e1bbf13e"
      },
      "source": [
        "## Span()"
      ]
    },
    {
      "cell_type": "markdown",
      "id": "1803fd75",
      "metadata": {
        "id": "1803fd75"
      },
      "source": [
        "Print the position (start- and end-position) of the first match occurrence.\n",
        "\n",
        "The regular expression looks for any words that starts with an upper case \"S\":"
      ]
    },
    {
      "cell_type": "code",
      "execution_count": null,
      "id": "ee1a0513",
      "metadata": {
        "id": "ee1a0513",
        "outputId": "8862ea6c-bf3a-4062-f243-6d588495e440"
      },
      "outputs": [
        {
          "name": "stdout",
          "output_type": "stream",
          "text": [
            "(12, 17)\n"
          ]
        }
      ],
      "source": [
        "import re\n",
        "\n",
        "txt = \"The rain in Spain\"\n",
        "x = re.search(r\"\\bS\\w+\", txt)\n",
        "print(x.span())"
      ]
    },
    {
      "cell_type": "code",
      "execution_count": null,
      "id": "0af1f121",
      "metadata": {
        "id": "0af1f121",
        "outputId": "015d95d5-5952-4de9-a8ce-e464847bc092"
      },
      "outputs": [
        {
          "name": "stdout",
          "output_type": "stream",
          "text": [
            "The rain in Spain\n"
          ]
        }
      ],
      "source": [
        "import re\n",
        "\n",
        "txt = \"The rain in Spain\"\n",
        "x = re.search(r\"\\bS\\w+\", txt)\n",
        "print(x.string)"
      ]
    },
    {
      "cell_type": "code",
      "execution_count": null,
      "id": "df6bf069",
      "metadata": {
        "id": "df6bf069",
        "outputId": "2376de68-3cc1-4e19-a6ed-3361d44172ed"
      },
      "outputs": [
        {
          "name": "stdout",
          "output_type": "stream",
          "text": [
            "Spain\n"
          ]
        }
      ],
      "source": [
        "import re\n",
        "\n",
        "txt = \"The rain in Spain\"\n",
        "x = re.search(r\"\\bS\\w+\", txt)\n",
        "print(x.group())"
      ]
    },
    {
      "cell_type": "code",
      "execution_count": null,
      "id": "88ea422b",
      "metadata": {
        "id": "88ea422b"
      },
      "outputs": [],
      "source": []
    }
  ],
  "metadata": {
    "kernelspec": {
      "display_name": "Python 3 (ipykernel)",
      "language": "python",
      "name": "python3"
    },
    "language_info": {
      "codemirror_mode": {
        "name": "ipython",
        "version": 3
      },
      "file_extension": ".py",
      "mimetype": "text/x-python",
      "name": "python",
      "nbconvert_exporter": "python",
      "pygments_lexer": "ipython3",
      "version": "3.7.11"
    },
    "colab": {
      "provenance": []
    }
  },
  "nbformat": 4,
  "nbformat_minor": 5
}